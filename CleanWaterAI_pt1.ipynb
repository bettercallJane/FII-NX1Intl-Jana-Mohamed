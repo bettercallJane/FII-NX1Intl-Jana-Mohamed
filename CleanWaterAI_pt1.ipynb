{
  "nbformat": 4,
  "nbformat_minor": 0,
  "metadata": {
    "colab": {
      "provenance": []
    },
    "kernelspec": {
      "name": "python3",
      "display_name": "Python 3"
    },
    "language_info": {
      "name": "python"
    }
  },
  "cells": [
    {
      "cell_type": "markdown",
      "source": [
        "# **CleanWaterAI** – Water Potability Predictor\n",
        "\n",
        "This notebook trains a neural network to predict whether water is safe to drink based on 9 chemical features.  \n",
        "Aligned with **UN Sustainable Development Goal 6**: *Clean Water and Sanitation*."
      ],
      "metadata": {
        "id": "yk8b6Sep5VCQ"
      }
    },
    {
      "cell_type": "markdown",
      "source": [
        "**1.Importing Libraries**"
      ],
      "metadata": {
        "id": "lCtwIMd452YN"
      }
    },
    {
      "cell_type": "code",
      "source": [
        "# Step 1: Import Libraries\n",
        "import pandas as pd\n",
        "import torch\n",
        "import torch.nn as nn\n",
        "from torch.utils.data import TensorDataset, DataLoader\n",
        "from sklearn.model_selection import train_test_split\n",
        "from sklearn.preprocessing import StandardScaler"
      ],
      "metadata": {
        "id": "p59HB7Ra5zbT"
      },
      "execution_count": 26,
      "outputs": []
    },
    {
      "cell_type": "markdown",
      "source": [
        "**2.Load and preprocess the data**"
      ],
      "metadata": {
        "id": "6ZXFbrF25_1g"
      }
    },
    {
      "cell_type": "code",
      "source": [
        "# Step 2: Load and preprocess the data\n",
        "df = pd.read_csv(\"/content/water_potability.csv\")\n",
        "df.fillna(df.mean(), inplace=True)  # Fill missing values with column averages\n",
        "\n",
        "X = df.drop(\"Potability\", axis=1)\n",
        "y = df[\"Potability\"]\n",
        "\n",
        "scaler = StandardScaler()\n",
        "X_scaled = scaler.fit_transform(X)\n",
        "\n",
        "X_train, X_test, y_train, y_test = train_test_split(\n",
        "    X_scaled, y, test_size=0.2, random_state=42, stratify=y\n",
        ")"
      ],
      "metadata": {
        "id": "TFrtHZhO58ZX"
      },
      "execution_count": 27,
      "outputs": []
    },
    {
      "cell_type": "markdown",
      "source": [
        "**3.Define the Neural Network**"
      ],
      "metadata": {
        "id": "OdZMs7FmALms"
      }
    },
    {
      "cell_type": "code",
      "source": [
        "# Step 3: Define the Neural Network\n",
        "class WaterNet(nn.Module):\n",
        "    def __init__(self, input_dim):\n",
        "        super(WaterNet, self).__init__()\n",
        "        self.model = nn.Sequential(\n",
        "            nn.Linear(input_dim, 64),\n",
        "            nn.ReLU(),\n",
        "            nn.Dropout(0.3),\n",
        "            nn.Linear(64, 32),\n",
        "            nn.ReLU(),\n",
        "            nn.Linear(32, 1),\n",
        "            nn.Sigmoid()\n",
        "        )\n",
        "\n",
        "    def forward(self, x):\n",
        "        return self.model(x)"
      ],
      "metadata": {
        "id": "8t58Wx2D6Hk6"
      },
      "execution_count": 28,
      "outputs": []
    },
    {
      "cell_type": "markdown",
      "source": [
        " **4.Prepare data for PyTorch**"
      ],
      "metadata": {
        "id": "dyQr9nF0BP6t"
      }
    },
    {
      "cell_type": "code",
      "source": [
        "# Step 4: Prepare data for PyTorch\n",
        "X_train_tensor = torch.tensor(X_train, dtype=torch.float32)\n",
        "y_train_tensor = torch.tensor(y_train.values, dtype=torch.float32).unsqueeze(1)\n",
        "X_test_tensor = torch.tensor(X_test, dtype=torch.float32)\n",
        "y_test_tensor = torch.tensor(y_test.values, dtype=torch.float32).unsqueeze(1)\n",
        "\n",
        "train_dataset = TensorDataset(X_train_tensor, y_train_tensor)\n",
        "train_loader = DataLoader(train_dataset, batch_size=32, shuffle=True)"
      ],
      "metadata": {
        "id": "y-AJd5UmBPMC"
      },
      "execution_count": 29,
      "outputs": []
    },
    {
      "cell_type": "markdown",
      "source": [
        "5. **Initialize model, loss function and optimizer**"
      ],
      "metadata": {
        "id": "LzrAlgUUBf-D"
      }
    },
    {
      "cell_type": "code",
      "source": [
        "# Step 5: Initialize model, loss function and optimizer\n",
        "model = WaterNet(input_dim=X_train.shape[1])\n",
        "criterion = nn.BCELoss()\n",
        "optimizer = torch.optim.Adam(model.parameters(), lr=0.001)"
      ],
      "metadata": {
        "id": "eHJUxHzDBd3f"
      },
      "execution_count": 30,
      "outputs": []
    },
    {
      "cell_type": "markdown",
      "source": [
        "**6. Train the model**"
      ],
      "metadata": {
        "id": "sl-kVNVQB21v"
      }
    },
    {
      "cell_type": "code",
      "source": [
        "# Step 6: Train the model\n",
        "for epoch in range(20):\n",
        "    model.train()\n",
        "    total_loss = 0\n",
        "    for X_batch, y_batch in train_loader:\n",
        "        optimizer.zero_grad()\n",
        "        y_pred = model(X_batch)\n",
        "        loss = criterion(y_pred, y_batch)\n",
        "        loss.backward()\n",
        "        optimizer.step()\n",
        "        total_loss += loss.item()\n",
        "    print(f\"Epoch {epoch+1}/20 - Loss: {total_loss:.4f}\")"
      ],
      "metadata": {
        "colab": {
          "base_uri": "https://localhost:8080/"
        },
        "id": "TuAXia4OB1To",
        "outputId": "a3357fa3-9671-4e46-e3d5-44077b5097b2"
      },
      "execution_count": 31,
      "outputs": [
        {
          "output_type": "stream",
          "name": "stdout",
          "text": [
            "Epoch 1/20 - Loss: 54.9479\n",
            "Epoch 2/20 - Loss: 54.1319\n",
            "Epoch 3/20 - Loss: 53.3228\n",
            "Epoch 4/20 - Loss: 51.7247\n",
            "Epoch 5/20 - Loss: 51.0190\n",
            "Epoch 6/20 - Loss: 50.9817\n",
            "Epoch 7/20 - Loss: 49.9552\n",
            "Epoch 8/20 - Loss: 49.4736\n",
            "Epoch 9/20 - Loss: 49.4662\n",
            "Epoch 10/20 - Loss: 49.6186\n",
            "Epoch 11/20 - Loss: 49.0592\n",
            "Epoch 12/20 - Loss: 48.5848\n",
            "Epoch 13/20 - Loss: 48.9299\n",
            "Epoch 14/20 - Loss: 48.5776\n",
            "Epoch 15/20 - Loss: 48.5694\n",
            "Epoch 16/20 - Loss: 48.2958\n",
            "Epoch 17/20 - Loss: 48.5343\n",
            "Epoch 18/20 - Loss: 48.6881\n",
            "Epoch 19/20 - Loss: 48.1184\n",
            "Epoch 20/20 - Loss: 47.8773\n"
          ]
        }
      ]
    },
    {
      "cell_type": "markdown",
      "source": [
        "**7. Evaluate the model**"
      ],
      "metadata": {
        "id": "99lhYGIBB9fv"
      }
    },
    {
      "cell_type": "code",
      "execution_count": 32,
      "metadata": {
        "id": "zEKaftuwXk-I",
        "colab": {
          "base_uri": "https://localhost:8080/"
        },
        "outputId": "e6f85aee-3445-4adb-f0ee-f1af3d9f8dab"
      },
      "outputs": [
        {
          "output_type": "stream",
          "name": "stdout",
          "text": [
            "\n",
            "✅ Test Accuracy: 68.45%\n"
          ]
        }
      ],
      "source": [
        "# Step 7: Evaluate the model\n",
        "model.eval()\n",
        "with torch.no_grad():\n",
        "    y_pred = model(X_test_tensor)\n",
        "    y_pred_class = (y_pred > 0.5).float()\n",
        "    acc = (y_pred_class == y_test_tensor).float().mean()\n",
        "    print(f\"\\n✅ Test Accuracy: {acc.item() * 100:.2f}%\")\n",
        "\n",
        "\n"
      ]
    },
    {
      "cell_type": "markdown",
      "source": [
        "**8. Saving the model**"
      ],
      "metadata": {
        "id": "EdoUtn2GCG4G"
      }
    },
    {
      "cell_type": "code",
      "source": [
        "#Step 8: Saving the model\n",
        "torch.save(model.state_dict(), \"water_model.pt\")\n",
        "print(\"\\nModel saved as 'water_model.pt'\")"
      ],
      "metadata": {
        "colab": {
          "base_uri": "https://localhost:8080/"
        },
        "id": "40L-MyNACB0E",
        "outputId": "902a2924-debd-4217-b54d-120f239a6c5c"
      },
      "execution_count": 33,
      "outputs": [
        {
          "output_type": "stream",
          "name": "stdout",
          "text": [
            "\n",
            "Model saved as 'water_model.pt'\n"
          ]
        }
      ]
    },
    {
      "cell_type": "markdown",
      "source": [
        "**9. Saving the model**"
      ],
      "metadata": {
        "id": "jsyVNoS7PIN5"
      }
    },
    {
      "cell_type": "code",
      "source": [
        "# Correct way to save model weights\n",
        "torch.save(model.state_dict(), \"water_model.pt\")\n",
        "from google.colab import files\n",
        "files.download(\"water_model.pt\")\n",
        "\n"
      ],
      "metadata": {
        "colab": {
          "base_uri": "https://localhost:8080/",
          "height": 17
        },
        "id": "jjZ2f4hgPHHV",
        "outputId": "39a4f6b9-3e57-49e9-a202-a2965eae142a"
      },
      "execution_count": 34,
      "outputs": [
        {
          "output_type": "display_data",
          "data": {
            "text/plain": [
              "<IPython.core.display.Javascript object>"
            ],
            "application/javascript": [
              "\n",
              "    async function download(id, filename, size) {\n",
              "      if (!google.colab.kernel.accessAllowed) {\n",
              "        return;\n",
              "      }\n",
              "      const div = document.createElement('div');\n",
              "      const label = document.createElement('label');\n",
              "      label.textContent = `Downloading \"${filename}\": `;\n",
              "      div.appendChild(label);\n",
              "      const progress = document.createElement('progress');\n",
              "      progress.max = size;\n",
              "      div.appendChild(progress);\n",
              "      document.body.appendChild(div);\n",
              "\n",
              "      const buffers = [];\n",
              "      let downloaded = 0;\n",
              "\n",
              "      const channel = await google.colab.kernel.comms.open(id);\n",
              "      // Send a message to notify the kernel that we're ready.\n",
              "      channel.send({})\n",
              "\n",
              "      for await (const message of channel.messages) {\n",
              "        // Send a message to notify the kernel that we're ready.\n",
              "        channel.send({})\n",
              "        if (message.buffers) {\n",
              "          for (const buffer of message.buffers) {\n",
              "            buffers.push(buffer);\n",
              "            downloaded += buffer.byteLength;\n",
              "            progress.value = downloaded;\n",
              "          }\n",
              "        }\n",
              "      }\n",
              "      const blob = new Blob(buffers, {type: 'application/binary'});\n",
              "      const a = document.createElement('a');\n",
              "      a.href = window.URL.createObjectURL(blob);\n",
              "      a.download = filename;\n",
              "      div.appendChild(a);\n",
              "      a.click();\n",
              "      div.remove();\n",
              "    }\n",
              "  "
            ]
          },
          "metadata": {}
        },
        {
          "output_type": "display_data",
          "data": {
            "text/plain": [
              "<IPython.core.display.Javascript object>"
            ],
            "application/javascript": [
              "download(\"download_6516468e-e539-42f5-922d-7f9ec302cbcc\", \"water_model.pt\", 14213)"
            ]
          },
          "metadata": {}
        }
      ]
    },
    {
      "cell_type": "markdown",
      "source": [
        "### ✅ Summary\n",
        "\n",
        "- Trained a neural network using PyTorch\n",
        "- Achieved ~68% test accuracy\n",
        "- Saved the model for use in prediction\n",
        "\n",
        "Ready to real-world testing !\n"
      ],
      "metadata": {
        "id": "Saxu_A4mE6QY"
      }
    }
  ]
}